{
 "cells": [
  {
   "cell_type": "code",
   "execution_count": 99,
   "metadata": {},
   "outputs": [],
   "source": [
    "import pandas as pd\n",
    "import numpy as np\n",
    "import matplotlib.pyplot as plt\n",
    "import seaborn as sns\n",
    "from sklearn.model_selection import train_test_split\n",
    "import warnings\n",
    "warnings.filterwarnings(\"ignore\")"
   ]
  },
  {
   "cell_type": "code",
   "execution_count": 100,
   "metadata": {},
   "outputs": [],
   "source": [
    "train_file = r\"E:\\Machine Learning\\Hackathon\\Hackathon\\Hackathon\\CreditCardFraud\\credit_train.csv\"\n",
    "test_file = r\"E:\\Machine Learning\\Hackathon\\Hackathon\\Hackathon\\CreditCardFraud\\credit_test.csv\""
   ]
  },
  {
   "cell_type": "code",
   "execution_count": 101,
   "metadata": {},
   "outputs": [],
   "source": [
    "train_Data = pd.read_csv(train_file)\n",
    "test_Data = pd.read_csv(test_file)"
   ]
  },
  {
   "cell_type": "code",
   "execution_count": 102,
   "metadata": {},
   "outputs": [
    {
     "data": {
      "text/plain": [
       "(227845, 30)"
      ]
     },
     "execution_count": 102,
     "metadata": {},
     "output_type": "execute_result"
    }
   ],
   "source": [
    "train_Data.shape"
   ]
  },
  {
   "cell_type": "code",
   "execution_count": 103,
   "metadata": {},
   "outputs": [
    {
     "data": {
      "text/plain": [
       "(56962, 30)"
      ]
     },
     "execution_count": 103,
     "metadata": {},
     "output_type": "execute_result"
    }
   ],
   "source": [
    "test_Data.shape"
   ]
  },
  {
   "cell_type": "code",
   "execution_count": 6,
   "metadata": {},
   "outputs": [
    {
     "data": {
      "text/html": [
       "<div>\n",
       "<style scoped>\n",
       "    .dataframe tbody tr th:only-of-type {\n",
       "        vertical-align: middle;\n",
       "    }\n",
       "\n",
       "    .dataframe tbody tr th {\n",
       "        vertical-align: top;\n",
       "    }\n",
       "\n",
       "    .dataframe thead th {\n",
       "        text-align: right;\n",
       "    }\n",
       "</style>\n",
       "<table border=\"1\" class=\"dataframe\">\n",
       "  <thead>\n",
       "    <tr style=\"text-align: right;\">\n",
       "      <th></th>\n",
       "      <th>V1</th>\n",
       "      <th>V2</th>\n",
       "      <th>V3</th>\n",
       "      <th>V4</th>\n",
       "      <th>V5</th>\n",
       "      <th>V6</th>\n",
       "      <th>V7</th>\n",
       "      <th>V8</th>\n",
       "      <th>V9</th>\n",
       "      <th>V10</th>\n",
       "      <th>...</th>\n",
       "      <th>V21</th>\n",
       "      <th>V22</th>\n",
       "      <th>V23</th>\n",
       "      <th>V24</th>\n",
       "      <th>V25</th>\n",
       "      <th>V26</th>\n",
       "      <th>V27</th>\n",
       "      <th>V28</th>\n",
       "      <th>Amount</th>\n",
       "      <th>Class</th>\n",
       "    </tr>\n",
       "  </thead>\n",
       "  <tbody>\n",
       "    <tr>\n",
       "      <th>0</th>\n",
       "      <td>-1.456417</td>\n",
       "      <td>1.327516</td>\n",
       "      <td>-0.635254</td>\n",
       "      <td>-2.765440</td>\n",
       "      <td>0.282230</td>\n",
       "      <td>-0.758234</td>\n",
       "      <td>0.365270</td>\n",
       "      <td>0.927673</td>\n",
       "      <td>0.033947</td>\n",
       "      <td>-1.138995</td>\n",
       "      <td>...</td>\n",
       "      <td>-0.268150</td>\n",
       "      <td>-1.027990</td>\n",
       "      <td>-0.123132</td>\n",
       "      <td>-1.147477</td>\n",
       "      <td>0.058896</td>\n",
       "      <td>0.434728</td>\n",
       "      <td>0.067085</td>\n",
       "      <td>0.072365</td>\n",
       "      <td>4.0</td>\n",
       "      <td>'0'</td>\n",
       "    </tr>\n",
       "    <tr>\n",
       "      <th>1</th>\n",
       "      <td>-0.879383</td>\n",
       "      <td>1.138867</td>\n",
       "      <td>0.834804</td>\n",
       "      <td>0.904867</td>\n",
       "      <td>0.164135</td>\n",
       "      <td>-0.486903</td>\n",
       "      <td>0.286551</td>\n",
       "      <td>0.437374</td>\n",
       "      <td>-0.751725</td>\n",
       "      <td>-0.293550</td>\n",
       "      <td>...</td>\n",
       "      <td>0.208368</td>\n",
       "      <td>0.597398</td>\n",
       "      <td>-0.073658</td>\n",
       "      <td>0.098907</td>\n",
       "      <td>-0.232732</td>\n",
       "      <td>-0.289270</td>\n",
       "      <td>0.314182</td>\n",
       "      <td>0.120301</td>\n",
       "      <td>11.8</td>\n",
       "      <td>'0'</td>\n",
       "    </tr>\n",
       "    <tr>\n",
       "      <th>2</th>\n",
       "      <td>1.270210</td>\n",
       "      <td>-0.755504</td>\n",
       "      <td>1.070372</td>\n",
       "      <td>-0.745716</td>\n",
       "      <td>-1.365979</td>\n",
       "      <td>-0.049645</td>\n",
       "      <td>-1.197854</td>\n",
       "      <td>0.207163</td>\n",
       "      <td>-0.677824</td>\n",
       "      <td>0.731290</td>\n",
       "      <td>...</td>\n",
       "      <td>0.475541</td>\n",
       "      <td>1.321484</td>\n",
       "      <td>-0.061854</td>\n",
       "      <td>0.280606</td>\n",
       "      <td>0.297015</td>\n",
       "      <td>-0.050341</td>\n",
       "      <td>0.050163</td>\n",
       "      <td>0.014809</td>\n",
       "      <td>14.0</td>\n",
       "      <td>'0'</td>\n",
       "    </tr>\n",
       "    <tr>\n",
       "      <th>3</th>\n",
       "      <td>1.967062</td>\n",
       "      <td>0.445029</td>\n",
       "      <td>-2.472415</td>\n",
       "      <td>1.290097</td>\n",
       "      <td>1.284233</td>\n",
       "      <td>-0.398478</td>\n",
       "      <td>0.641294</td>\n",
       "      <td>-0.209637</td>\n",
       "      <td>-0.219990</td>\n",
       "      <td>-0.224304</td>\n",
       "      <td>...</td>\n",
       "      <td>0.011025</td>\n",
       "      <td>0.184953</td>\n",
       "      <td>-0.079679</td>\n",
       "      <td>0.188458</td>\n",
       "      <td>0.516061</td>\n",
       "      <td>-0.521453</td>\n",
       "      <td>-0.005402</td>\n",
       "      <td>-0.030380</td>\n",
       "      <td>32.0</td>\n",
       "      <td>'0'</td>\n",
       "    </tr>\n",
       "    <tr>\n",
       "      <th>4</th>\n",
       "      <td>-0.626555</td>\n",
       "      <td>1.218109</td>\n",
       "      <td>0.871426</td>\n",
       "      <td>0.950972</td>\n",
       "      <td>-0.311923</td>\n",
       "      <td>-0.711223</td>\n",
       "      <td>0.686529</td>\n",
       "      <td>0.214618</td>\n",
       "      <td>-0.916320</td>\n",
       "      <td>-0.506793</td>\n",
       "      <td>...</td>\n",
       "      <td>0.237543</td>\n",
       "      <td>0.529095</td>\n",
       "      <td>0.015473</td>\n",
       "      <td>0.401008</td>\n",
       "      <td>-0.195985</td>\n",
       "      <td>-0.335558</td>\n",
       "      <td>0.031509</td>\n",
       "      <td>0.106962</td>\n",
       "      <td>64.9</td>\n",
       "      <td>'0'</td>\n",
       "    </tr>\n",
       "  </tbody>\n",
       "</table>\n",
       "<p>5 rows × 30 columns</p>\n",
       "</div>"
      ],
      "text/plain": [
       "         V1        V2        V3        V4        V5        V6        V7  \\\n",
       "0 -1.456417  1.327516 -0.635254 -2.765440  0.282230 -0.758234  0.365270   \n",
       "1 -0.879383  1.138867  0.834804  0.904867  0.164135 -0.486903  0.286551   \n",
       "2  1.270210 -0.755504  1.070372 -0.745716 -1.365979 -0.049645 -1.197854   \n",
       "3  1.967062  0.445029 -2.472415  1.290097  1.284233 -0.398478  0.641294   \n",
       "4 -0.626555  1.218109  0.871426  0.950972 -0.311923 -0.711223  0.686529   \n",
       "\n",
       "         V8        V9       V10  ...       V21       V22       V23       V24  \\\n",
       "0  0.927673  0.033947 -1.138995  ... -0.268150 -1.027990 -0.123132 -1.147477   \n",
       "1  0.437374 -0.751725 -0.293550  ...  0.208368  0.597398 -0.073658  0.098907   \n",
       "2  0.207163 -0.677824  0.731290  ...  0.475541  1.321484 -0.061854  0.280606   \n",
       "3 -0.209637 -0.219990 -0.224304  ...  0.011025  0.184953 -0.079679  0.188458   \n",
       "4  0.214618 -0.916320 -0.506793  ...  0.237543  0.529095  0.015473  0.401008   \n",
       "\n",
       "        V25       V26       V27       V28  Amount  Class  \n",
       "0  0.058896  0.434728  0.067085  0.072365     4.0    '0'  \n",
       "1 -0.232732 -0.289270  0.314182  0.120301    11.8    '0'  \n",
       "2  0.297015 -0.050341  0.050163  0.014809    14.0    '0'  \n",
       "3  0.516061 -0.521453 -0.005402 -0.030380    32.0    '0'  \n",
       "4 -0.195985 -0.335558  0.031509  0.106962    64.9    '0'  \n",
       "\n",
       "[5 rows x 30 columns]"
      ]
     },
     "execution_count": 6,
     "metadata": {},
     "output_type": "execute_result"
    }
   ],
   "source": [
    "train_Data.head()"
   ]
  },
  {
   "cell_type": "code",
   "execution_count": 7,
   "metadata": {},
   "outputs": [
    {
     "name": "stdout",
     "output_type": "stream",
     "text": [
      "<class 'pandas.core.frame.DataFrame'>\n",
      "RangeIndex: 227845 entries, 0 to 227844\n",
      "Data columns (total 30 columns):\n",
      "V1        227845 non-null float64\n",
      "V2        227845 non-null float64\n",
      "V3        227845 non-null float64\n",
      "V4        227845 non-null float64\n",
      "V5        227845 non-null float64\n",
      "V6        227845 non-null float64\n",
      "V7        227845 non-null float64\n",
      "V8        227845 non-null float64\n",
      "V9        227845 non-null float64\n",
      "V10       227845 non-null float64\n",
      "V11       227845 non-null float64\n",
      "V12       227845 non-null float64\n",
      "V13       227845 non-null float64\n",
      "V14       227845 non-null float64\n",
      "V15       227845 non-null float64\n",
      "V16       227845 non-null float64\n",
      "V17       227845 non-null float64\n",
      "V18       227845 non-null float64\n",
      "V19       227845 non-null float64\n",
      "V20       227845 non-null float64\n",
      "V21       227845 non-null float64\n",
      "V22       227845 non-null float64\n",
      "V23       227845 non-null float64\n",
      "V24       227845 non-null float64\n",
      "V25       227845 non-null float64\n",
      "V26       227845 non-null float64\n",
      "V27       227845 non-null float64\n",
      "V28       227845 non-null float64\n",
      "Amount    227845 non-null float64\n",
      "Class     227845 non-null object\n",
      "dtypes: float64(29), object(1)\n",
      "memory usage: 52.1+ MB\n"
     ]
    }
   ],
   "source": [
    "train_Data.info()"
   ]
  },
  {
   "cell_type": "code",
   "execution_count": 104,
   "metadata": {},
   "outputs": [],
   "source": [
    "train_Data[\"Source\"] = \"Train\"\n",
    "test_Data[\"Source\"] = \"Test\""
   ]
  },
  {
   "cell_type": "code",
   "execution_count": 105,
   "metadata": {},
   "outputs": [],
   "source": [
    "final_data = pd.concat([train_Data,test_Data])"
   ]
  },
  {
   "cell_type": "code",
   "execution_count": 10,
   "metadata": {},
   "outputs": [
    {
     "data": {
      "text/plain": [
       "(284807, 31)"
      ]
     },
     "execution_count": 10,
     "metadata": {},
     "output_type": "execute_result"
    }
   ],
   "source": [
    "final_data.shape"
   ]
  },
  {
   "cell_type": "code",
   "execution_count": 11,
   "metadata": {},
   "outputs": [
    {
     "data": {
      "text/html": [
       "<div>\n",
       "<style scoped>\n",
       "    .dataframe tbody tr th:only-of-type {\n",
       "        vertical-align: middle;\n",
       "    }\n",
       "\n",
       "    .dataframe tbody tr th {\n",
       "        vertical-align: top;\n",
       "    }\n",
       "\n",
       "    .dataframe thead th {\n",
       "        text-align: right;\n",
       "    }\n",
       "</style>\n",
       "<table border=\"1\" class=\"dataframe\">\n",
       "  <thead>\n",
       "    <tr style=\"text-align: right;\">\n",
       "      <th></th>\n",
       "      <th>V1</th>\n",
       "      <th>V2</th>\n",
       "      <th>V3</th>\n",
       "      <th>V4</th>\n",
       "      <th>V5</th>\n",
       "      <th>V6</th>\n",
       "      <th>V7</th>\n",
       "      <th>V8</th>\n",
       "      <th>V9</th>\n",
       "      <th>V10</th>\n",
       "      <th>...</th>\n",
       "      <th>V22</th>\n",
       "      <th>V23</th>\n",
       "      <th>V24</th>\n",
       "      <th>V25</th>\n",
       "      <th>V26</th>\n",
       "      <th>V27</th>\n",
       "      <th>V28</th>\n",
       "      <th>Amount</th>\n",
       "      <th>Class</th>\n",
       "      <th>Source</th>\n",
       "    </tr>\n",
       "  </thead>\n",
       "  <tbody>\n",
       "    <tr>\n",
       "      <th>0</th>\n",
       "      <td>-1.456417</td>\n",
       "      <td>1.327516</td>\n",
       "      <td>-0.635254</td>\n",
       "      <td>-2.765440</td>\n",
       "      <td>0.282230</td>\n",
       "      <td>-0.758234</td>\n",
       "      <td>0.365270</td>\n",
       "      <td>0.927673</td>\n",
       "      <td>0.033947</td>\n",
       "      <td>-1.138995</td>\n",
       "      <td>...</td>\n",
       "      <td>-1.027990</td>\n",
       "      <td>-0.123132</td>\n",
       "      <td>-1.147477</td>\n",
       "      <td>0.058896</td>\n",
       "      <td>0.434728</td>\n",
       "      <td>0.067085</td>\n",
       "      <td>0.072365</td>\n",
       "      <td>4.0</td>\n",
       "      <td>'0'</td>\n",
       "      <td>Train</td>\n",
       "    </tr>\n",
       "    <tr>\n",
       "      <th>1</th>\n",
       "      <td>-0.879383</td>\n",
       "      <td>1.138867</td>\n",
       "      <td>0.834804</td>\n",
       "      <td>0.904867</td>\n",
       "      <td>0.164135</td>\n",
       "      <td>-0.486903</td>\n",
       "      <td>0.286551</td>\n",
       "      <td>0.437374</td>\n",
       "      <td>-0.751725</td>\n",
       "      <td>-0.293550</td>\n",
       "      <td>...</td>\n",
       "      <td>0.597398</td>\n",
       "      <td>-0.073658</td>\n",
       "      <td>0.098907</td>\n",
       "      <td>-0.232732</td>\n",
       "      <td>-0.289270</td>\n",
       "      <td>0.314182</td>\n",
       "      <td>0.120301</td>\n",
       "      <td>11.8</td>\n",
       "      <td>'0'</td>\n",
       "      <td>Train</td>\n",
       "    </tr>\n",
       "    <tr>\n",
       "      <th>2</th>\n",
       "      <td>1.270210</td>\n",
       "      <td>-0.755504</td>\n",
       "      <td>1.070372</td>\n",
       "      <td>-0.745716</td>\n",
       "      <td>-1.365979</td>\n",
       "      <td>-0.049645</td>\n",
       "      <td>-1.197854</td>\n",
       "      <td>0.207163</td>\n",
       "      <td>-0.677824</td>\n",
       "      <td>0.731290</td>\n",
       "      <td>...</td>\n",
       "      <td>1.321484</td>\n",
       "      <td>-0.061854</td>\n",
       "      <td>0.280606</td>\n",
       "      <td>0.297015</td>\n",
       "      <td>-0.050341</td>\n",
       "      <td>0.050163</td>\n",
       "      <td>0.014809</td>\n",
       "      <td>14.0</td>\n",
       "      <td>'0'</td>\n",
       "      <td>Train</td>\n",
       "    </tr>\n",
       "    <tr>\n",
       "      <th>3</th>\n",
       "      <td>1.967062</td>\n",
       "      <td>0.445029</td>\n",
       "      <td>-2.472415</td>\n",
       "      <td>1.290097</td>\n",
       "      <td>1.284233</td>\n",
       "      <td>-0.398478</td>\n",
       "      <td>0.641294</td>\n",
       "      <td>-0.209637</td>\n",
       "      <td>-0.219990</td>\n",
       "      <td>-0.224304</td>\n",
       "      <td>...</td>\n",
       "      <td>0.184953</td>\n",
       "      <td>-0.079679</td>\n",
       "      <td>0.188458</td>\n",
       "      <td>0.516061</td>\n",
       "      <td>-0.521453</td>\n",
       "      <td>-0.005402</td>\n",
       "      <td>-0.030380</td>\n",
       "      <td>32.0</td>\n",
       "      <td>'0'</td>\n",
       "      <td>Train</td>\n",
       "    </tr>\n",
       "    <tr>\n",
       "      <th>4</th>\n",
       "      <td>-0.626555</td>\n",
       "      <td>1.218109</td>\n",
       "      <td>0.871426</td>\n",
       "      <td>0.950972</td>\n",
       "      <td>-0.311923</td>\n",
       "      <td>-0.711223</td>\n",
       "      <td>0.686529</td>\n",
       "      <td>0.214618</td>\n",
       "      <td>-0.916320</td>\n",
       "      <td>-0.506793</td>\n",
       "      <td>...</td>\n",
       "      <td>0.529095</td>\n",
       "      <td>0.015473</td>\n",
       "      <td>0.401008</td>\n",
       "      <td>-0.195985</td>\n",
       "      <td>-0.335558</td>\n",
       "      <td>0.031509</td>\n",
       "      <td>0.106962</td>\n",
       "      <td>64.9</td>\n",
       "      <td>'0'</td>\n",
       "      <td>Train</td>\n",
       "    </tr>\n",
       "  </tbody>\n",
       "</table>\n",
       "<p>5 rows × 31 columns</p>\n",
       "</div>"
      ],
      "text/plain": [
       "         V1        V2        V3        V4        V5        V6        V7  \\\n",
       "0 -1.456417  1.327516 -0.635254 -2.765440  0.282230 -0.758234  0.365270   \n",
       "1 -0.879383  1.138867  0.834804  0.904867  0.164135 -0.486903  0.286551   \n",
       "2  1.270210 -0.755504  1.070372 -0.745716 -1.365979 -0.049645 -1.197854   \n",
       "3  1.967062  0.445029 -2.472415  1.290097  1.284233 -0.398478  0.641294   \n",
       "4 -0.626555  1.218109  0.871426  0.950972 -0.311923 -0.711223  0.686529   \n",
       "\n",
       "         V8        V9       V10  ...       V22       V23       V24       V25  \\\n",
       "0  0.927673  0.033947 -1.138995  ... -1.027990 -0.123132 -1.147477  0.058896   \n",
       "1  0.437374 -0.751725 -0.293550  ...  0.597398 -0.073658  0.098907 -0.232732   \n",
       "2  0.207163 -0.677824  0.731290  ...  1.321484 -0.061854  0.280606  0.297015   \n",
       "3 -0.209637 -0.219990 -0.224304  ...  0.184953 -0.079679  0.188458  0.516061   \n",
       "4  0.214618 -0.916320 -0.506793  ...  0.529095  0.015473  0.401008 -0.195985   \n",
       "\n",
       "        V26       V27       V28  Amount  Class  Source  \n",
       "0  0.434728  0.067085  0.072365     4.0    '0'   Train  \n",
       "1 -0.289270  0.314182  0.120301    11.8    '0'   Train  \n",
       "2 -0.050341  0.050163  0.014809    14.0    '0'   Train  \n",
       "3 -0.521453 -0.005402 -0.030380    32.0    '0'   Train  \n",
       "4 -0.335558  0.031509  0.106962    64.9    '0'   Train  \n",
       "\n",
       "[5 rows x 31 columns]"
      ]
     },
     "execution_count": 11,
     "metadata": {},
     "output_type": "execute_result"
    }
   ],
   "source": [
    "final_data.head()"
   ]
  },
  {
   "cell_type": "code",
   "execution_count": 12,
   "metadata": {},
   "outputs": [
    {
     "data": {
      "text/plain": [
       "7101"
      ]
     },
     "execution_count": 12,
     "metadata": {},
     "output_type": "execute_result"
    }
   ],
   "source": [
    "final_data.duplicated().sum()"
   ]
  },
  {
   "cell_type": "code",
   "execution_count": 106,
   "metadata": {},
   "outputs": [],
   "source": [
    "final_data.drop_duplicates(inplace = True)"
   ]
  },
  {
   "cell_type": "code",
   "execution_count": 107,
   "metadata": {},
   "outputs": [
    {
     "data": {
      "text/plain": [
       "0"
      ]
     },
     "execution_count": 107,
     "metadata": {},
     "output_type": "execute_result"
    }
   ],
   "source": [
    "final_data.duplicated().sum()"
   ]
  },
  {
   "cell_type": "code",
   "execution_count": 15,
   "metadata": {},
   "outputs": [
    {
     "data": {
      "text/plain": [
       "V1        0\n",
       "V2        0\n",
       "V3        0\n",
       "V4        0\n",
       "V5        0\n",
       "V6        0\n",
       "V7        0\n",
       "V8        0\n",
       "V9        0\n",
       "V10       0\n",
       "V11       0\n",
       "V12       0\n",
       "V13       0\n",
       "V14       0\n",
       "V15       0\n",
       "V16       0\n",
       "V17       0\n",
       "V18       0\n",
       "V19       0\n",
       "V20       0\n",
       "V21       0\n",
       "V22       0\n",
       "V23       0\n",
       "V24       0\n",
       "V25       0\n",
       "V26       0\n",
       "V27       0\n",
       "V28       0\n",
       "Amount    0\n",
       "Class     0\n",
       "Source    0\n",
       "dtype: int64"
      ]
     },
     "execution_count": 15,
     "metadata": {},
     "output_type": "execute_result"
    }
   ],
   "source": [
    "final_data.isna().sum()\n"
   ]
  },
  {
   "cell_type": "code",
   "execution_count": 108,
   "metadata": {},
   "outputs": [
    {
     "data": {
      "text/plain": [
       "'0'    277230\n",
       "'1'       476\n",
       "Name: Class, dtype: int64"
      ]
     },
     "execution_count": 108,
     "metadata": {},
     "output_type": "execute_result"
    }
   ],
   "source": [
    "final_data[\"Class\"].value_counts()"
   ]
  },
  {
   "cell_type": "code",
   "execution_count": 109,
   "metadata": {},
   "outputs": [],
   "source": [
    "final_data[\"Class\"].replace({\"'0'\": 0, \"'1'\": 1},inplace = True)"
   ]
  },
  {
   "cell_type": "code",
   "execution_count": 18,
   "metadata": {},
   "outputs": [
    {
     "name": "stdout",
     "output_type": "stream",
     "text": [
      "<class 'pandas.core.frame.DataFrame'>\n",
      "Int64Index: 277706 entries, 0 to 56961\n",
      "Data columns (total 31 columns):\n",
      "V1        277706 non-null float64\n",
      "V2        277706 non-null float64\n",
      "V3        277706 non-null float64\n",
      "V4        277706 non-null float64\n",
      "V5        277706 non-null float64\n",
      "V6        277706 non-null float64\n",
      "V7        277706 non-null float64\n",
      "V8        277706 non-null float64\n",
      "V9        277706 non-null float64\n",
      "V10       277706 non-null float64\n",
      "V11       277706 non-null float64\n",
      "V12       277706 non-null float64\n",
      "V13       277706 non-null float64\n",
      "V14       277706 non-null float64\n",
      "V15       277706 non-null float64\n",
      "V16       277706 non-null float64\n",
      "V17       277706 non-null float64\n",
      "V18       277706 non-null float64\n",
      "V19       277706 non-null float64\n",
      "V20       277706 non-null float64\n",
      "V21       277706 non-null float64\n",
      "V22       277706 non-null float64\n",
      "V23       277706 non-null float64\n",
      "V24       277706 non-null float64\n",
      "V25       277706 non-null float64\n",
      "V26       277706 non-null float64\n",
      "V27       277706 non-null float64\n",
      "V28       277706 non-null float64\n",
      "Amount    277706 non-null float64\n",
      "Class     277706 non-null int64\n",
      "Source    277706 non-null object\n",
      "dtypes: float64(29), int64(1), object(1)\n",
      "memory usage: 67.8+ MB\n"
     ]
    }
   ],
   "source": [
    "final_data.info()"
   ]
  },
  {
   "cell_type": "code",
   "execution_count": 19,
   "metadata": {},
   "outputs": [
    {
     "name": "stdout",
     "output_type": "stream",
     "text": [
      "Class     1.000000\n",
      "V11       0.151838\n",
      "V4        0.130980\n",
      "V2        0.085632\n",
      "V19       0.034080\n",
      "V8        0.032901\n",
      "V21       0.025558\n",
      "V20       0.021785\n",
      "V27       0.020144\n",
      "V28       0.009378\n",
      "Amount    0.005621\n",
      "V22       0.004990\n",
      "V26       0.004327\n",
      "V25       0.003514\n",
      "V15      -0.003141\n",
      "V13      -0.003972\n",
      "V23      -0.006331\n",
      "V24      -0.006823\n",
      "V6       -0.044923\n",
      "V5       -0.090037\n",
      "V9       -0.095444\n",
      "V1       -0.095893\n",
      "V18      -0.107323\n",
      "V7       -0.175670\n",
      "V3       -0.187325\n",
      "V16      -0.189682\n",
      "V10      -0.210211\n",
      "V12      -0.254559\n",
      "V14      -0.298092\n",
      "V17      -0.319082\n",
      "Name: Class, dtype: float64\n"
     ]
    }
   ],
   "source": [
    "correlation = final_data.corr()\n",
    "print(correlation[\"Class\"].sort_values(ascending = False))"
   ]
  },
  {
   "cell_type": "code",
   "execution_count": 110,
   "metadata": {},
   "outputs": [],
   "source": [
    "train_final = final_data[final_data[\"Source\"] == 'Train']\n",
    "test_final = final_data[final_data[\"Source\"] == 'Test']"
   ]
  },
  {
   "cell_type": "code",
   "execution_count": 111,
   "metadata": {},
   "outputs": [],
   "source": [
    "train_final.drop(columns=[\"Source\"],inplace = True)\n",
    "test_final.drop(columns=[\"Source\"],inplace = True)"
   ]
  },
  {
   "cell_type": "code",
   "execution_count": 112,
   "metadata": {},
   "outputs": [],
   "source": [
    "train_X = train_final.drop(columns = [\"Class\",\"V15\",\"V13\",\"V23\",\"V24\",\"V6\",\"V5\",\"V9\",\"V1\",\"V18\",\"V7\",\"V3\",\"V16\",\"V10\",\"V12\",\"V14\",\"V17\"])\n",
    "train_Y = train_final[[\"Class\"]]\n",
    "test_X = test_final.drop(columns = [\"Class\",\"V15\",\"V13\",\"V23\",\"V24\",\"V6\",\"V5\",\"V9\",\"V1\",\"V18\",\"V7\",\"V3\",\"V16\",\"V10\",\"V12\",\"V14\",\"V17\"])\n",
    "test_Y = test_final[[\"Class\"]]"
   ]
  },
  {
   "cell_type": "code",
   "execution_count": 23,
   "metadata": {},
   "outputs": [
    {
     "data": {
      "text/plain": [
       "(221447, 13)"
      ]
     },
     "execution_count": 23,
     "metadata": {},
     "output_type": "execute_result"
    }
   ],
   "source": [
    "train_X.shape"
   ]
  },
  {
   "cell_type": "code",
   "execution_count": 24,
   "metadata": {},
   "outputs": [
    {
     "data": {
      "text/plain": [
       "(56259, 13)"
      ]
     },
     "execution_count": 24,
     "metadata": {},
     "output_type": "execute_result"
    }
   ],
   "source": [
    "test_X.shape"
   ]
  },
  {
   "cell_type": "markdown",
   "metadata": {},
   "source": [
    "# Logistic Regression"
   ]
  },
  {
   "cell_type": "code",
   "execution_count": 25,
   "metadata": {},
   "outputs": [
    {
     "data": {
      "text/plain": [
       "LogisticRegression(C=1.0, class_weight=None, dual=False, fit_intercept=True,\n",
       "          intercept_scaling=1, max_iter=100, multi_class='warn',\n",
       "          n_jobs=None, penalty='l2', random_state=None, solver='warn',\n",
       "          tol=0.0001, verbose=0, warm_start=False)"
      ]
     },
     "execution_count": 25,
     "metadata": {},
     "output_type": "execute_result"
    }
   ],
   "source": [
    "from sklearn.linear_model import LogisticRegression\n",
    "from sklearn import metrics \n",
    "from sklearn.metrics import f1_score\n",
    "logreg = LogisticRegression()\n",
    "logreg.fit(train_X,train_Y)"
   ]
  },
  {
   "cell_type": "code",
   "execution_count": 26,
   "metadata": {},
   "outputs": [],
   "source": [
    "train_predict = logreg.predict(train_X)\n",
    "test_predict = logreg.predict(test_X)"
   ]
  },
  {
   "cell_type": "code",
   "execution_count": 27,
   "metadata": {},
   "outputs": [
    {
     "data": {
      "text/plain": [
       "array([[221041,     29],\n",
       "       [   194,    183]], dtype=int64)"
      ]
     },
     "execution_count": 27,
     "metadata": {},
     "output_type": "execute_result"
    }
   ],
   "source": [
    "metrics.confusion_matrix(train_Y,train_predict)"
   ]
  },
  {
   "cell_type": "code",
   "execution_count": 28,
   "metadata": {},
   "outputs": [
    {
     "name": "stdout",
     "output_type": "stream",
     "text": [
      "F1-Score -Train :0.62\n",
      "F1-Score -Test :0.53\n"
     ]
    }
   ],
   "source": [
    "logreg_F1_train = f1_score(train_Y,train_predict)\n",
    "print(\"F1-Score -Train :{:.2f}\".format(logreg_F1_train))\n",
    "logreg_F1_test = f1_score(test_Y,test_predict)\n",
    "print(\"F1-Score -Test :{:.2f}\".format(logreg_F1_test))"
   ]
  },
  {
   "cell_type": "code",
   "execution_count": 29,
   "metadata": {},
   "outputs": [
    {
     "data": {
      "image/png": "[encoded data removed]",
      "text/plain": [
       "<Figure size 432x288 with 1 Axes>"
      ]
     },
     "metadata": {
      "needs_background": "light"
     },
     "output_type": "display_data"
    }
   ],
   "source": [
    "from sklearn.metrics import roc_auc_score\n",
    "from sklearn.metrics import roc_curve\n",
    "logit_roc_auc = roc_auc_score(test_Y, logreg.predict(test_X))\n",
    "fpr, tpr, thresholds = roc_curve(test_Y, logreg.predict_proba(test_X)[:,1])\n",
    "plt.figure()\n",
    "plt.plot(fpr, tpr, label='Logistic Regression (area = %0.2f)' % logit_roc_auc)\n",
    "plt.plot([0, 1], [0, 1],'r--')\n",
    "plt.xlim([0.0, 1.0])\n",
    "plt.ylim([0.0, 1.05])\n",
    "plt.xlabel('False Positive Rate')\n",
    "plt.ylabel('True Positive Rate')\n",
    "plt.title('Receiver operating characteristic')\n",
    "plt.legend(loc=\"lower right\")\n",
    "plt.savefig('Log_ROC')\n",
    "plt.show()"
   ]
  },
  {
   "cell_type": "markdown",
   "metadata": {},
   "source": [
    "# Scaling - StandardScaler"
   ]
  },
  {
   "cell_type": "code",
   "execution_count": 113,
   "metadata": {},
   "outputs": [],
   "source": [
    "from sklearn.preprocessing import StandardScaler\n",
    "scaler = StandardScaler()\n",
    "train_scaled = scaler.fit_transform(train_X)\n",
    "test_scaled = scaler.transform(test_X)"
   ]
  },
  {
   "cell_type": "markdown",
   "metadata": {},
   "source": [
    "# KNN"
   ]
  },
  {
   "cell_type": "code",
   "execution_count": 114,
   "metadata": {},
   "outputs": [
    {
     "data": {
      "text/plain": [
       "KNeighborsClassifier(algorithm='auto', leaf_size=30, metric='minkowski',\n",
       "           metric_params=None, n_jobs=None, n_neighbors=5, p=2,\n",
       "           weights='uniform')"
      ]
     },
     "execution_count": 114,
     "metadata": {},
     "output_type": "execute_result"
    }
   ],
   "source": [
    "from sklearn.neighbors import KNeighborsClassifier\n",
    "k = 5\n",
    "neigh = KNeighborsClassifier(n_neighbors = k).fit(train_scaled,train_Y)\n",
    "neigh"
   ]
  },
  {
   "cell_type": "code",
   "execution_count": null,
   "metadata": {},
   "outputs": [],
   "source": [
    "train_predict = neigh.predict(train_scaled)\n",
    "test_predict = neigh.predict(test_scaled)"
   ]
  },
  {
   "cell_type": "code",
   "execution_count": 33,
   "metadata": {},
   "outputs": [
    {
     "data": {
      "text/plain": [
       "array([[221063,      7],\n",
       "       [   139,    238]], dtype=int64)"
      ]
     },
     "execution_count": 33,
     "metadata": {},
     "output_type": "execute_result"
    }
   ],
   "source": [
    "metrics.confusion_matrix(train_Y,knn_train_predict)"
   ]
  },
  {
   "cell_type": "code",
   "execution_count": null,
   "metadata": {},
   "outputs": [],
   "source": [
    "knn_F1_train = f1_score(train_Y,train_predict)\n",
    "print(\"F1-Score -Train :{:.2f}\".format(knn_F1_train))\n",
    "knn_F1_test = f1_score(test_Y,test_predict)\n",
    "print(\"F1-Score -Test :{:.2f}\".format(knn_F1_test))"
   ]
  },
  {
   "cell_type": "markdown",
   "metadata": {},
   "source": [
    "# NaiveBayes"
   ]
  },
  {
   "cell_type": "code",
   "execution_count": 34,
   "metadata": {},
   "outputs": [],
   "source": [
    "from sklearn.naive_bayes import GaussianNB\n",
    "nbc = GaussianNB()"
   ]
  },
  {
   "cell_type": "code",
   "execution_count": 35,
   "metadata": {},
   "outputs": [
    {
     "data": {
      "text/plain": [
       "GaussianNB(priors=None, var_smoothing=1e-09)"
      ]
     },
     "execution_count": 35,
     "metadata": {},
     "output_type": "execute_result"
    }
   ],
   "source": [
    "nbc.fit(train_scaled,train_Y)"
   ]
  },
  {
   "cell_type": "code",
   "execution_count": 36,
   "metadata": {},
   "outputs": [],
   "source": [
    "train_predict = nbc.predict(train_scaled)\n",
    "test_predict = nbc.predict(test_scaled)"
   ]
  },
  {
   "cell_type": "code",
   "execution_count": 38,
   "metadata": {},
   "outputs": [
    {
     "data": {
      "text/plain": [
       "array([[215696,   5374],\n",
       "       [   152,    225]], dtype=int64)"
      ]
     },
     "execution_count": 38,
     "metadata": {},
     "output_type": "execute_result"
    }
   ],
   "source": [
    "metrics.confusion_matrix(train_Y,train_predict)"
   ]
  },
  {
   "cell_type": "code",
   "execution_count": 39,
   "metadata": {},
   "outputs": [
    {
     "name": "stdout",
     "output_type": "stream",
     "text": [
      "F1-Score -Train :0.08\n",
      "F1-Score -Test :0.08\n"
     ]
    }
   ],
   "source": [
    "nbc_F1_train = f1_score(train_Y,train_predict)\n",
    "print(\"F1-Score -Train :{:.2f}\".format(nbc_F1_train))\n",
    "nbc_F1_test = f1_score(test_Y,test_predict)\n",
    "print(\"F1-Score -Test :{:.2f}\".format(nbc_F1_test))"
   ]
  },
  {
   "cell_type": "markdown",
   "metadata": {},
   "source": [
    "# Decision Tree"
   ]
  },
  {
   "cell_type": "code",
   "execution_count": 40,
   "metadata": {},
   "outputs": [],
   "source": [
    "from sklearn.tree import DecisionTreeClassifier\n",
    "dt = DecisionTreeClassifier()"
   ]
  },
  {
   "cell_type": "code",
   "execution_count": 41,
   "metadata": {},
   "outputs": [
    {
     "data": {
      "text/plain": [
       "DecisionTreeClassifier(class_weight=None, criterion='gini', max_depth=None,\n",
       "            max_features=None, max_leaf_nodes=None,\n",
       "            min_impurity_decrease=0.0, min_impurity_split=None,\n",
       "            min_samples_leaf=1, min_samples_split=2,\n",
       "            min_weight_fraction_leaf=0.0, presort=False, random_state=None,\n",
       "            splitter='best')"
      ]
     },
     "execution_count": 41,
     "metadata": {},
     "output_type": "execute_result"
    }
   ],
   "source": [
    "dt.fit(train_scaled,train_Y)"
   ]
  },
  {
   "cell_type": "code",
   "execution_count": null,
   "metadata": {},
   "outputs": [],
   "source": [
    "train_predict = dt.predict(train_scaled)"
   ]
  },
  {
   "cell_type": "code",
   "execution_count": 42,
   "metadata": {},
   "outputs": [],
   "source": [
    "test_predict = dt.predict(test_scaled)"
   ]
  },
  {
   "cell_type": "code",
   "execution_count": 43,
   "metadata": {},
   "outputs": [
    {
     "data": {
      "text/plain": [
       "0.6057692307692307"
      ]
     },
     "execution_count": 43,
     "metadata": {},
     "output_type": "execute_result"
    }
   ],
   "source": [
    "train_score = f1_score(train_Y,train_predict)\n",
    "train_score"
   ]
  },
  {
   "cell_type": "code",
   "execution_count": null,
   "metadata": {},
   "outputs": [],
   "source": [
    "test_score = f1_score(test_Y,test_predict)\n",
    "test_score"
   ]
  },
  {
   "cell_type": "markdown",
   "metadata": {},
   "source": [
    "Fine Tuning"
   ]
  },
  {
   "cell_type": "code",
   "execution_count": 44,
   "metadata": {},
   "outputs": [],
   "source": [
    "def fit_predict(train_scaled, test_scaled, y_train_Y, test_Y,max_depth, \n",
    "                criterion = 'entropy', max_features = 1, min_samples_split = 4):\n",
    "            \n",
    "    dt = DecisionTreeClassifier(criterion = criterion, max_depth=max_depth, \n",
    "                                 max_features=max_features,\n",
    "                               min_samples_split=min_samples_split)\n",
    "    dt.fit(train_scaled, train_Y)\n",
    "    y_pred = dt.predict(test_scaled)\n",
    "    print(f1_score(test_Y, y_pred))"
   ]
  },
  {
   "cell_type": "markdown",
   "metadata": {},
   "source": [
    "Max Depth Tuning"
   ]
  },
  {
   "cell_type": "code",
   "execution_count": 47,
   "metadata": {},
   "outputs": [
    {
     "name": "stdout",
     "output_type": "stream",
     "text": [
      "F1 score using max_depth = 1: 0.0\n",
      "F1 score using max_depth = 2: 0.0\n",
      "F1 score using max_depth = 3: 0.0\n",
      "F1 score using max_depth = 4: 0.14953271028037382\n",
      "F1 score using max_depth = 5: 0.0\n",
      "F1 score using max_depth = 6: 0.4\n",
      "F1 score using max_depth = 7: 0.26890756302521013\n",
      "F1 score using max_depth = 8: 0.35384615384615387\n",
      "F1 score using max_depth = 9: 0.6547619047619048\n",
      "F1 score using max_depth = 10: 0.5149700598802396\n",
      "F1 score using max_depth = 11: 0.5895953757225434\n",
      "F1 score using max_depth = 12: 0.44970414201183434\n",
      "F1 score using max_depth = 13: 0.49717514124293777\n",
      "F1 score using max_depth = 14: 0.5280898876404494\n",
      "F1 score using max_depth = 15: 0.5433526011560694\n",
      "F1 score using max_depth = 16: 0.37349397590361444\n",
      "F1 score using max_depth = 17: 0.5513513513513513\n",
      "F1 score using max_depth = 18: 0.4891304347826087\n",
      "F1 score using max_depth = 19: 0.3891891891891892\n"
     ]
    }
   ],
   "source": [
    "for i in range(1, 20):\n",
    "    print('F1 score using max_depth =', i, end = ': ')\n",
    "    fit_predict(train_scaled, test_scaled, train_Y, test_Y, i)"
   ]
  },
  {
   "cell_type": "markdown",
   "metadata": {},
   "source": [
    "Max Features Tuning"
   ]
  },
  {
   "cell_type": "code",
   "execution_count": 49,
   "metadata": {},
   "outputs": [
    {
     "name": "stdout",
     "output_type": "stream",
     "text": [
      "F1 score using max features = 0.1: 0.4090909090909091\n",
      "F1 score using max features = 0.2: 0.6049382716049383\n",
      "F1 score using max features = 0.30000000000000004: 0.689655172413793\n",
      "F1 score using max features = 0.4: 0.6979166666666667\n",
      "F1 score using max features = 0.5: 0.6881720430107527\n",
      "F1 score using max features = 0.6: 0.6844919786096257\n",
      "F1 score using max features = 0.7000000000000001: 0.6914893617021276\n",
      "F1 score using max features = 0.8: 0.7078651685393258\n",
      "F1 score using max features = 0.9: 0.6595744680851064\n"
     ]
    }
   ],
   "source": [
    "for i in np.arange(0.1, 1.0, 0.1):\n",
    "    print('F1 score using max features =', i, end = ': ')\n",
    "    fit_predict(train_scaled, test_scaled, train_Y, test_Y, max_depth = 9, max_features=i)"
   ]
  },
  {
   "cell_type": "markdown",
   "metadata": {},
   "source": [
    "Min Samples Split Tuning"
   ]
  },
  {
   "cell_type": "code",
   "execution_count": 51,
   "metadata": {},
   "outputs": [
    {
     "name": "stdout",
     "output_type": "stream",
     "text": [
      "F1 score using min samples split = 2: 0.7135135135135136\n",
      "F1 score using min samples split = 3: 0.66\n",
      "F1 score using min samples split = 4: 0.6736842105263158\n",
      "F1 score using min samples split = 5: 0.6737967914438503\n",
      "F1 score using min samples split = 6: 0.670391061452514\n",
      "F1 score using min samples split = 7: 0.721311475409836\n",
      "F1 score using min samples split = 8: 0.6735751295336788\n",
      "F1 score using min samples split = 9: 0.6847826086956522\n"
     ]
    }
   ],
   "source": [
    "for i in range(2, 10):\n",
    "    print('F1 score using min samples split =', i, end = ': ')\n",
    "    fit_predict(train_scaled, test_scaled, train_Y, test_Y, 9, max_features=0.8, min_samples_split=i)"
   ]
  },
  {
   "cell_type": "markdown",
   "metadata": {},
   "source": [
    "Criterion Tuning"
   ]
  },
  {
   "cell_type": "code",
   "execution_count": 55,
   "metadata": {},
   "outputs": [
    {
     "name": "stdout",
     "output_type": "stream",
     "text": [
      "F1 score using criterion = gini: 0.6989247311827956\n",
      "F1 score using criterion = entropy: 0.6850828729281768\n"
     ]
    }
   ],
   "source": [
    "for i in ['gini', 'entropy']:\n",
    "    print('F1 score using criterion =', i, end = ': ')\n",
    "    fit_predict(train_scaled, test_scaled, train_Y, test_Y, 9, \n",
    "                max_features=0.8, min_samples_split=7, criterion = 'entropy')"
   ]
  },
  {
   "cell_type": "markdown",
   "metadata": {},
   "source": [
    "After Tuning:"
   ]
  },
  {
   "cell_type": "code",
   "execution_count": 56,
   "metadata": {},
   "outputs": [],
   "source": [
    "dt = DecisionTreeClassifier(criterion = 'gini', max_depth=9, \n",
    "                                 max_features=0.8,\n",
    "                               min_samples_split=7)"
   ]
  },
  {
   "cell_type": "code",
   "execution_count": 57,
   "metadata": {},
   "outputs": [
    {
     "data": {
      "text/plain": [
       "DecisionTreeClassifier(class_weight=None, criterion='gini', max_depth=9,\n",
       "            max_features=0.8, max_leaf_nodes=None,\n",
       "            min_impurity_decrease=0.0, min_impurity_split=None,\n",
       "            min_samples_leaf=1, min_samples_split=7,\n",
       "            min_weight_fraction_leaf=0.0, presort=False, random_state=None,\n",
       "            splitter='best')"
      ]
     },
     "execution_count": 57,
     "metadata": {},
     "output_type": "execute_result"
    }
   ],
   "source": [
    "dt.fit(train_scaled,train_Y)"
   ]
  },
  {
   "cell_type": "code",
   "execution_count": 58,
   "metadata": {},
   "outputs": [],
   "source": [
    "train_predict = dt.predict(train_X)\n"
   ]
  },
  {
   "cell_type": "code",
   "execution_count": null,
   "metadata": {},
   "outputs": [],
   "source": [
    "test_predict = dt.predict(test_X)"
   ]
  },
  {
   "cell_type": "code",
   "execution_count": 59,
   "metadata": {},
   "outputs": [
    {
     "data": {
      "text/plain": [
       "array([[220806,    264],\n",
       "       [   135,    242]], dtype=int64)"
      ]
     },
     "execution_count": 59,
     "metadata": {},
     "output_type": "execute_result"
    }
   ],
   "source": [
    "metrics.confusion_matrix(train_Y,train_predict)"
   ]
  },
  {
   "cell_type": "code",
   "execution_count": 60,
   "metadata": {},
   "outputs": [
    {
     "name": "stdout",
     "output_type": "stream",
     "text": [
      "F1-Score -Train :0.55\n",
      "F1-Score -Test :0.55\n"
     ]
    }
   ],
   "source": [
    "dt_F1_train = f1_score(train_Y,train_predict)\n",
    "print(\"F1-Score -Train :{:.2f}\".format(dt_F1_train))\n",
    "dt_F1_test = f1_score(test_Y,test_predict)\n",
    "print(\"F1-Score -Test :{:.2f}\".format(dt_F1_test))"
   ]
  },
  {
   "cell_type": "markdown",
   "metadata": {},
   "source": [
    "# Random Forest"
   ]
  },
  {
   "cell_type": "code",
   "execution_count": 61,
   "metadata": {},
   "outputs": [
    {
     "data": {
      "text/plain": [
       "RandomForestClassifier(bootstrap=True, class_weight=None, criterion='gini',\n",
       "            max_depth=None, max_features='auto', max_leaf_nodes=None,\n",
       "            min_impurity_decrease=0.0, min_impurity_split=None,\n",
       "            min_samples_leaf=1, min_samples_split=2,\n",
       "            min_weight_fraction_leaf=0.0, n_estimators=10, n_jobs=None,\n",
       "            oob_score=False, random_state=None, verbose=0,\n",
       "            warm_start=False)"
      ]
     },
     "execution_count": 61,
     "metadata": {},
     "output_type": "execute_result"
    }
   ],
   "source": [
    "from sklearn.ensemble import RandomForestClassifier\n",
    "RF = RandomForestClassifier()\n",
    "RF.fit(train_scaled,train_Y)"
   ]
  },
  {
   "cell_type": "code",
   "execution_count": 69,
   "metadata": {},
   "outputs": [],
   "source": [
    "train_predict = RF.predict(train_scaled)\n"
   ]
  },
  {
   "cell_type": "code",
   "execution_count": 70,
   "metadata": {},
   "outputs": [],
   "source": [
    "test_predict = RF.predict(test_scaled)"
   ]
  },
  {
   "cell_type": "code",
   "execution_count": 71,
   "metadata": {},
   "outputs": [
    {
     "data": {
      "text/plain": [
       "array([[221069,      1],\n",
       "       [    30,    347]], dtype=int64)"
      ]
     },
     "execution_count": 71,
     "metadata": {},
     "output_type": "execute_result"
    }
   ],
   "source": [
    "metrics.confusion_matrix(train_Y,train_predict)"
   ]
  },
  {
   "cell_type": "code",
   "execution_count": 72,
   "metadata": {},
   "outputs": [
    {
     "data": {
      "text/plain": [
       "0.9572413793103448"
      ]
     },
     "execution_count": 72,
     "metadata": {},
     "output_type": "execute_result"
    }
   ],
   "source": [
    "train_score = f1_score(train_Y,train_predict)\n",
    "\n",
    "train_score\n"
   ]
  },
  {
   "cell_type": "code",
   "execution_count": 73,
   "metadata": {},
   "outputs": [
    {
     "data": {
      "text/plain": [
       "0.6878980891719746"
      ]
     },
     "execution_count": 73,
     "metadata": {},
     "output_type": "execute_result"
    }
   ],
   "source": [
    "test_score = f1_score(test_Y,test_predict)\n",
    "test_score"
   ]
  },
  {
   "cell_type": "markdown",
   "metadata": {},
   "source": [
    "Fine Tuning"
   ]
  },
  {
   "cell_type": "code",
   "execution_count": 74,
   "metadata": {},
   "outputs": [],
   "source": [
    "def fit_predict(train_scaled, test_scaled, train_Y, test_Y,  max_depth = None , \n",
    "                n_estimators = 10, max_features = 'auto', min_samples_split = 2,scaler = None):\n",
    "            \n",
    "    RF = RandomForestClassifier(n_estimators = n_estimators, max_depth=max_depth, \n",
    "                                random_state = 42, max_features = max_features,\n",
    "                               min_samples_split = min_samples_split)\n",
    "    RF.fit(train_scaled, train_Y)\n",
    "    y_pred = RF.predict(test_scaled)\n",
    "    print(f1_score(test_Y, y_pred))"
   ]
  },
  {
   "cell_type": "markdown",
   "metadata": {},
   "source": [
    "Number of Trees - n_estimators"
   ]
  },
  {
   "cell_type": "code",
   "execution_count": 75,
   "metadata": {},
   "outputs": [
    {
     "name": "stdout",
     "output_type": "stream",
     "text": [
      "F1 score using n_estimators = 20: 0.736196319018405\n",
      "F1 score using n_estimators = 40: 0.7590361445783133\n",
      "F1 score using n_estimators = 60: 0.7515151515151516\n",
      "F1 score using n_estimators = 80: 0.7590361445783133\n",
      "F1 score using n_estimators = 100: 0.7590361445783133\n",
      "F1 score using n_estimators = 120: 0.7590361445783133\n",
      "F1 score using n_estimators = 140: 0.7664670658682635\n",
      "F1 score using n_estimators = 160: 0.7738095238095237\n",
      "F1 score using n_estimators = 180: 0.7738095238095237\n"
     ]
    }
   ],
   "source": [
    "for n_estimators in range(20,200,20):\n",
    "    print('F1 score using n_estimators =', n_estimators, end = ': ')\n",
    "    fit_predict(train_scaled,test_scaled,train_Y,test_Y,n_estimators = n_estimators)"
   ]
  },
  {
   "cell_type": "code",
   "execution_count": null,
   "metadata": {},
   "outputs": [],
   "source": [
    "Max Depth"
   ]
  },
  {
   "cell_type": "code",
   "execution_count": 76,
   "metadata": {},
   "outputs": [
    {
     "name": "stdout",
     "output_type": "stream",
     "text": [
      "F1 score using max_depth = 1: 0.0\n",
      "F1 score using max_depth = 2: 0.12962962962962962\n",
      "F1 score using max_depth = 3: 0.4274809160305343\n",
      "F1 score using max_depth = 4: 0.5531914893617021\n",
      "F1 score using max_depth = 5: 0.5874125874125874\n",
      "F1 score using max_depth = 6: 0.6357615894039735\n",
      "F1 score using max_depth = 7: 0.6357615894039735\n",
      "F1 score using max_depth = 8: 0.6835443037974683\n",
      "F1 score using max_depth = 9: 0.7\n",
      "F1 score using max_depth = 10: 0.7160493827160492\n",
      "F1 score using max_depth = 11: 0.7439024390243902\n",
      "F1 score using max_depth = 12: 0.7317073170731707\n",
      "F1 score using max_depth = 13: 0.7469879518072289\n",
      "F1 score using max_depth = 14: 0.7469879518072289\n",
      "F1 score using max_depth = 15: 0.7664670658682635\n",
      "F1 score using max_depth = 16: 0.7664670658682635\n",
      "F1 score using max_depth = 17: 0.7692307692307693\n",
      "F1 score using max_depth = 18: 0.7692307692307693\n",
      "F1 score using max_depth = 19: 0.7692307692307693\n"
     ]
    }
   ],
   "source": [
    "for max_depth in range(1,20):\n",
    "    print('F1 score using max_depth =', max_depth, end = ': ')\n",
    "    fit_predict(train_scaled,test_scaled,train_Y,test_Y,n_estimators = 160,max_depth = max_depth)"
   ]
  },
  {
   "cell_type": "markdown",
   "metadata": {},
   "source": [
    "Max Featuresx"
   ]
  },
  {
   "cell_type": "code",
   "execution_count": 77,
   "metadata": {},
   "outputs": [
    {
     "name": "stdout",
     "output_type": "stream",
     "text": [
      "F1 score using max_features = 0.1: 0.6216216216216216\n",
      "F1 score using max_features = 0.2: 0.7006369426751592\n",
      "F1 score using max_features = 0.30000000000000004: 0.7664670658682635\n",
      "F1 score using max_features = 0.4: 0.764705882352941\n",
      "F1 score using max_features = 0.5: 0.7719298245614035\n",
      "F1 score using max_features = 0.6: 0.7764705882352941\n",
      "F1 score using max_features = 0.7000000000000001: 0.7719298245614035\n",
      "F1 score using max_features = 0.8: 0.7816091954022988\n",
      "F1 score using max_features = 0.9: 0.7816091954022988\n",
      "F1 score using max_features = 1.0: 0.7906976744186046\n"
     ]
    }
   ],
   "source": [
    "for max_features in np.linspace(0.1,1,10):\n",
    "    print('F1 score using max_features =', max_features, end = ': ')\n",
    "    fit_predict(train_scaled,test_scaled,train_Y,test_Y,n_estimators = 160,max_features = max_features,max_depth = 15)"
   ]
  },
  {
   "cell_type": "markdown",
   "metadata": {},
   "source": [
    "Min Samples"
   ]
  },
  {
   "cell_type": "code",
   "execution_count": 78,
   "metadata": {},
   "outputs": [
    {
     "name": "stdout",
     "output_type": "stream",
     "text": [
      "F1 score using min_samples_split = 2: 0.7764705882352941\n",
      "F1 score using min_samples_split = 3: 0.764705882352941\n",
      "F1 score using min_samples_split = 4: 0.7764705882352941\n",
      "F1 score using min_samples_split = 5: 0.7764705882352941\n",
      "F1 score using min_samples_split = 6: 0.764705882352941\n",
      "F1 score using min_samples_split = 7: 0.7692307692307693\n",
      "F1 score using min_samples_split = 8: 0.7719298245614035\n",
      "F1 score using min_samples_split = 9: 0.7764705882352941\n"
     ]
    }
   ],
   "source": [
    "for min_samples_split in range(2,10):\n",
    "    print('F1 score using min_samples_split =', min_samples_split, end = ': ')\n",
    "    fit_predict(train_scaled,test_scaled,train_Y,test_Y,n_estimators = 160,max_features = 0.6,min_samples_split=min_samples_split\n",
    "               ,max_depth = 15)"
   ]
  },
  {
   "cell_type": "code",
   "execution_count": 84,
   "metadata": {},
   "outputs": [],
   "source": [
    "from sklearn.ensemble import RandomForestClassifier\n",
    "rf = RandomForestClassifier(n_estimators = 160, max_depth=15,random_state = 42, max_features = 0.6,\n",
    "                               min_samples_split = 5)"
   ]
  },
  {
   "cell_type": "code",
   "execution_count": 85,
   "metadata": {},
   "outputs": [
    {
     "data": {
      "text/plain": [
       "RandomForestClassifier(bootstrap=True, class_weight=None, criterion='gini',\n",
       "            max_depth=15, max_features=0.6, max_leaf_nodes=None,\n",
       "            min_impurity_decrease=0.0, min_impurity_split=None,\n",
       "            min_samples_leaf=1, min_samples_split=5,\n",
       "            min_weight_fraction_leaf=0.0, n_estimators=160, n_jobs=None,\n",
       "            oob_score=False, random_state=42, verbose=0, warm_start=False)"
      ]
     },
     "execution_count": 85,
     "metadata": {},
     "output_type": "execute_result"
    }
   ],
   "source": [
    "rf.fit(train_scaled, train_Y)"
   ]
  },
  {
   "cell_type": "code",
   "execution_count": 86,
   "metadata": {},
   "outputs": [],
   "source": [
    "train_predict = rf.predict(train_scaled)\n",
    "test_predict = rf.predict(test_scaled)"
   ]
  },
  {
   "cell_type": "code",
   "execution_count": 87,
   "metadata": {},
   "outputs": [
    {
     "name": "stdout",
     "output_type": "stream",
     "text": [
      "F1-Score -Train :0.91\n",
      "F1-Score -Test :0.78\n"
     ]
    }
   ],
   "source": [
    "rf_F1_train = f1_score(train_Y,train_predict)\n",
    "print(\"F1-Score -Train :{:.2f}\".format(rf_F1_train))\n",
    "rf_F1_test = f1_score(test_Y,test_predict)\n",
    "print(\"F1-Score -Test :{:.2f}\".format(rf_F1_test))"
   ]
  },
  {
   "cell_type": "code",
   "execution_count": null,
   "metadata": {},
   "outputs": [],
   "source": []
  },
  {
   "cell_type": "code",
   "execution_count": null,
   "metadata": {},
   "outputs": [],
   "source": []
  },
  {
   "cell_type": "code",
   "execution_count": null,
   "metadata": {},
   "outputs": [],
   "source": []
  },
  {
   "cell_type": "code",
   "execution_count": null,
   "metadata": {},
   "outputs": [],
   "source": []
  },
  {
   "cell_type": "code",
   "execution_count": null,
   "metadata": {},
   "outputs": [],
   "source": []
  },
  {
   "cell_type": "code",
   "execution_count": null,
   "metadata": {},
   "outputs": [],
   "source": []
  },
  {
   "cell_type": "code",
   "execution_count": null,
   "metadata": {},
   "outputs": [],
   "source": []
  },
  {
   "cell_type": "code",
   "execution_count": null,
   "metadata": {},
   "outputs": [],
   "source": []
  }
 ],
 "metadata": {
  "kernelspec": {
   "display_name": "Python 3",
   "language": "python",
   "name": "python3"
  }
 },
 "nbformat": 4,
 "nbformat_minor": 2
}
