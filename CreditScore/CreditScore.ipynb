{
 "cells": [
  {
   "cell_type": "code",
   "execution_count": 1,
   "metadata": {},
   "outputs": [],
   "source": [
    "import pandas as pd\n",
    "import numpy as np\n",
    "import matplotlib.pyplot as plt\n",
    "import seaborn as sns\n",
    "import warnings\n",
    "warnings.filterwarnings(\"ignore\")"
   ]
  },
  {
   "cell_type": "code",
   "execution_count": 2,
   "metadata": {},
   "outputs": [],
   "source": [
    "train_file = r\"E:\\Machine Learning\\Hackathon\\Hackathon\\Hackathon\\CreditScore\\CreditScore_train.csv\"\n",
    "test_file = r\"E:\\Machine Learning\\Hackathon\\Hackathon\\Hackathon\\CreditScore\\CreditScore_test.csv\""
   ]
  },
  {
   "cell_type": "code",
   "execution_count": 3,
   "metadata": {},
   "outputs": [],
   "source": [
    "train_data = pd.read_csv(train_file)\n",
    "test_data = pd.read_csv(test_file)"
   ]
  },
  {
   "cell_type": "code",
   "execution_count": 4,
   "metadata": {},
   "outputs": [
    {
     "data": {
      "text/plain": [
       "(80000, 305)"
      ]
     },
     "execution_count": 4,
     "metadata": {},
     "output_type": "execute_result"
    }
   ],
   "source": [
    "train_data.shape"
   ]
  },
  {
   "cell_type": "code",
   "execution_count": 5,
   "metadata": {},
   "outputs": [
    {
     "data": {
      "text/plain": [
       "(20000, 305)"
      ]
     },
     "execution_count": 5,
     "metadata": {},
     "output_type": "execute_result"
    }
   ],
   "source": [
    "test_data.shape"
   ]
  },
  {
   "cell_type": "code",
   "execution_count": 6,
   "metadata": {},
   "outputs": [],
   "source": [
    "train_data['Source'] = 'Train'\n",
    "test_data['Source'] = 'Test'"
   ]
  },
  {
   "cell_type": "code",
   "execution_count": 7,
   "metadata": {},
   "outputs": [],
   "source": [
    "final_data = pd.concat([train_data,test_data])"
   ]
  },
  {
   "cell_type": "code",
   "execution_count": 8,
   "metadata": {},
   "outputs": [
    {
     "data": {
      "text/plain": [
       "(100000, 306)"
      ]
     },
     "execution_count": 8,
     "metadata": {},
     "output_type": "execute_result"
    }
   ],
   "source": [
    "final_data.shape"
   ]
  },
  {
   "cell_type": "code",
   "execution_count": 9,
   "metadata": {},
   "outputs": [
    {
     "data": {
      "text/html": [
       "<div>\n",
       "<style scoped>\n",
       "    .dataframe tbody tr th:only-of-type {\n",
       "        vertical-align: middle;\n",
       "    }\n",
       "\n",
       "    .dataframe tbody tr th {\n",
       "        vertical-align: top;\n",
       "    }\n",
       "\n",
       "    .dataframe thead th {\n",
       "        text-align: right;\n",
       "    }\n",
       "</style>\n",
       "<table border=\"1\" class=\"dataframe\">\n",
       "  <thead>\n",
       "    <tr style=\"text-align: right;\">\n",
       "      <th></th>\n",
       "      <th>x001</th>\n",
       "      <th>x002</th>\n",
       "      <th>x003</th>\n",
       "      <th>x004</th>\n",
       "      <th>x005</th>\n",
       "      <th>x006</th>\n",
       "      <th>x007</th>\n",
       "      <th>x008</th>\n",
       "      <th>x009</th>\n",
       "      <th>x010</th>\n",
       "      <th>...</th>\n",
       "      <th>x297</th>\n",
       "      <th>x298</th>\n",
       "      <th>x299</th>\n",
       "      <th>x300</th>\n",
       "      <th>x301</th>\n",
       "      <th>x302</th>\n",
       "      <th>x303</th>\n",
       "      <th>x304</th>\n",
       "      <th>y</th>\n",
       "      <th>Source</th>\n",
       "    </tr>\n",
       "  </thead>\n",
       "  <tbody>\n",
       "    <tr>\n",
       "      <th>0</th>\n",
       "      <td>1084094</td>\n",
       "      <td>426.0</td>\n",
       "      <td>39.0</td>\n",
       "      <td>128.0</td>\n",
       "      <td>426.0</td>\n",
       "      <td>0</td>\n",
       "      <td>0</td>\n",
       "      <td>0</td>\n",
       "      <td>0</td>\n",
       "      <td>0</td>\n",
       "      <td>...</td>\n",
       "      <td>NaN</td>\n",
       "      <td>0</td>\n",
       "      <td>0</td>\n",
       "      <td>0</td>\n",
       "      <td>0</td>\n",
       "      <td>NaN</td>\n",
       "      <td>0</td>\n",
       "      <td>NaN</td>\n",
       "      <td>807</td>\n",
       "      <td>Train</td>\n",
       "    </tr>\n",
       "    <tr>\n",
       "      <th>1</th>\n",
       "      <td>1287777</td>\n",
       "      <td>160.0</td>\n",
       "      <td>2.0</td>\n",
       "      <td>64.0</td>\n",
       "      <td>160.0</td>\n",
       "      <td>1</td>\n",
       "      <td>1</td>\n",
       "      <td>2</td>\n",
       "      <td>0</td>\n",
       "      <td>1</td>\n",
       "      <td>...</td>\n",
       "      <td>0.8417</td>\n",
       "      <td>1</td>\n",
       "      <td>1</td>\n",
       "      <td>1</td>\n",
       "      <td>0</td>\n",
       "      <td>NaN</td>\n",
       "      <td>0</td>\n",
       "      <td>NaN</td>\n",
       "      <td>819</td>\n",
       "      <td>Train</td>\n",
       "    </tr>\n",
       "    <tr>\n",
       "      <th>2</th>\n",
       "      <td>1483016</td>\n",
       "      <td>163.0</td>\n",
       "      <td>16.0</td>\n",
       "      <td>104.0</td>\n",
       "      <td>239.0</td>\n",
       "      <td>0</td>\n",
       "      <td>0</td>\n",
       "      <td>0</td>\n",
       "      <td>1</td>\n",
       "      <td>0</td>\n",
       "      <td>...</td>\n",
       "      <td>NaN</td>\n",
       "      <td>0</td>\n",
       "      <td>0</td>\n",
       "      <td>0</td>\n",
       "      <td>0</td>\n",
       "      <td>NaN</td>\n",
       "      <td>0</td>\n",
       "      <td>NaN</td>\n",
       "      <td>803</td>\n",
       "      <td>Train</td>\n",
       "    </tr>\n",
       "    <tr>\n",
       "      <th>3</th>\n",
       "      <td>959054</td>\n",
       "      <td>NaN</td>\n",
       "      <td>NaN</td>\n",
       "      <td>NaN</td>\n",
       "      <td>102.0</td>\n",
       "      <td>0</td>\n",
       "      <td>0</td>\n",
       "      <td>0</td>\n",
       "      <td>0</td>\n",
       "      <td>0</td>\n",
       "      <td>...</td>\n",
       "      <td>NaN</td>\n",
       "      <td>1</td>\n",
       "      <td>1</td>\n",
       "      <td>1</td>\n",
       "      <td>0</td>\n",
       "      <td>NaN</td>\n",
       "      <td>0</td>\n",
       "      <td>NaN</td>\n",
       "      <td>530</td>\n",
       "      <td>Train</td>\n",
       "    </tr>\n",
       "    <tr>\n",
       "      <th>4</th>\n",
       "      <td>1342113</td>\n",
       "      <td>3.0</td>\n",
       "      <td>2.0</td>\n",
       "      <td>2.0</td>\n",
       "      <td>62.0</td>\n",
       "      <td>0</td>\n",
       "      <td>2</td>\n",
       "      <td>2</td>\n",
       "      <td>0</td>\n",
       "      <td>0</td>\n",
       "      <td>...</td>\n",
       "      <td>1.0180</td>\n",
       "      <td>1</td>\n",
       "      <td>1</td>\n",
       "      <td>1</td>\n",
       "      <td>0</td>\n",
       "      <td>NaN</td>\n",
       "      <td>0</td>\n",
       "      <td>NaN</td>\n",
       "      <td>485</td>\n",
       "      <td>Train</td>\n",
       "    </tr>\n",
       "  </tbody>\n",
       "</table>\n",
       "<p>5 rows × 306 columns</p>\n",
       "</div>"
      ],
      "text/plain": [
       "      x001   x002  x003   x004   x005  x006  x007  x008  x009  x010  ...  \\\n",
       "0  1084094  426.0  39.0  128.0  426.0     0     0     0     0     0  ...   \n",
       "1  1287777  160.0   2.0   64.0  160.0     1     1     2     0     1  ...   \n",
       "2  1483016  163.0  16.0  104.0  239.0     0     0     0     1     0  ...   \n",
       "3   959054    NaN   NaN    NaN  102.0     0     0     0     0     0  ...   \n",
       "4  1342113    3.0   2.0    2.0   62.0     0     2     2     0     0  ...   \n",
       "\n",
       "     x297  x298  x299  x300  x301  x302  x303  x304    y  Source  \n",
       "0     NaN     0     0     0     0   NaN     0   NaN  807   Train  \n",
       "1  0.8417     1     1     1     0   NaN     0   NaN  819   Train  \n",
       "2     NaN     0     0     0     0   NaN     0   NaN  803   Train  \n",
       "3     NaN     1     1     1     0   NaN     0   NaN  530   Train  \n",
       "4  1.0180     1     1     1     0   NaN     0   NaN  485   Train  \n",
       "\n",
       "[5 rows x 306 columns]"
      ]
     },
     "execution_count": 9,
     "metadata": {},
     "output_type": "execute_result"
    }
   ],
   "source": [
    "final_data.head()"
   ]
  },
  {
   "cell_type": "code",
   "execution_count": 10,
   "metadata": {},
   "outputs": [
    {
     "name": "stdout",
     "output_type": "stream",
     "text": [
      "<class 'pandas.core.frame.DataFrame'>\n",
      "Int64Index: 100000 entries, 0 to 19999\n",
      "Columns: 306 entries, x001 to Source\n",
      "dtypes: float64(41), int64(264), object(1)\n",
      "memory usage: 234.2+ MB\n"
     ]
    }
   ],
   "source": [
    "final_data.info()"
   ]
  },
  {
   "cell_type": "code",
   "execution_count": 11,
   "metadata": {},
   "outputs": [
    {
     "data": {
      "text/plain": [
       "0"
      ]
     },
     "execution_count": 11,
     "metadata": {},
     "output_type": "execute_result"
    }
   ],
   "source": [
    "final_data.duplicated().sum()"
   ]
  },
  {
   "cell_type": "code",
   "execution_count": 12,
   "metadata": {},
   "outputs": [
    {
     "data": {
      "text/plain": [
       "x001          0\n",
       "x002      21432\n",
       "x003      21432\n",
       "x004      21424\n",
       "x005       6110\n",
       "x006          0\n",
       "x007          0\n",
       "x008          0\n",
       "x009          0\n",
       "x010          0\n",
       "x011          0\n",
       "x012          0\n",
       "x013          0\n",
       "x014          0\n",
       "x015          0\n",
       "x016          0\n",
       "x017          0\n",
       "x018          0\n",
       "x019          0\n",
       "x020          0\n",
       "x021          0\n",
       "x022          0\n",
       "x023          0\n",
       "x024          0\n",
       "x025          0\n",
       "x026          0\n",
       "x027          0\n",
       "x028          0\n",
       "x029          0\n",
       "x030          0\n",
       "          ...  \n",
       "x277          0\n",
       "x278          0\n",
       "x279          0\n",
       "x280          0\n",
       "x281          0\n",
       "x282          0\n",
       "x283          0\n",
       "x284          0\n",
       "x285          0\n",
       "x286          0\n",
       "x287      24821\n",
       "x288      49756\n",
       "x289      49756\n",
       "x290      49756\n",
       "x291          0\n",
       "x292          0\n",
       "x293      51133\n",
       "x294          0\n",
       "x295      86533\n",
       "x296          0\n",
       "x297      58112\n",
       "x298          0\n",
       "x299          0\n",
       "x300          0\n",
       "x301          0\n",
       "x302      73069\n",
       "x303          0\n",
       "x304      81875\n",
       "y             0\n",
       "Source        0\n",
       "Length: 306, dtype: int64"
      ]
     },
     "execution_count": 12,
     "metadata": {},
     "output_type": "execute_result"
    }
   ],
   "source": [
    "final_data.isna().sum()"
   ]
  },
  {
   "cell_type": "code",
   "execution_count": 13,
   "metadata": {},
   "outputs": [
    {
     "data": {
      "text/plain": [
       "Index(['x002', 'x003', 'x004', 'x041', 'x057', 'x058', 'x098', 'x148', 'x155',\n",
       "       'x162', 'x222', 'x223', 'x235', 'x237', 'x238', 'x239', 'x242', 'x253',\n",
       "       'x255', 'x256', 'x257', 'x259', 'x265', 'x266', 'x267', 'x268', 'x275',\n",
       "       'x287', 'x288', 'x289', 'x290', 'x293', 'x295', 'x297', 'x302', 'x304'],\n",
       "      dtype='object')"
      ]
     },
     "execution_count": 13,
     "metadata": {},
     "output_type": "execute_result"
    }
   ],
   "source": [
    "final_data.columns[final_data.isna().sum() > 20000]"
   ]
  },
  {
   "cell_type": "code",
   "execution_count": 14,
   "metadata": {},
   "outputs": [],
   "source": [
    "final_na_df = final_data.drop(columns = ['x002', 'x003', 'x004', 'x041', 'x057', 'x058', 'x098', 'x148', 'x155',\n",
    "       'x162', 'x222', 'x223', 'x235', 'x237', 'x238', 'x239', 'x242', 'x253',\n",
    "       'x255', 'x256', 'x257', 'x259', 'x265', 'x266', 'x267', 'x268', 'x275',\n",
    "       'x287', 'x288', 'x289', 'x290', 'x293', 'x295', 'x297', 'x302', 'x304'])"
   ]
  },
  {
   "cell_type": "code",
   "execution_count": 15,
   "metadata": {},
   "outputs": [
    {
     "data": {
      "text/plain": [
       "(100000, 270)"
      ]
     },
     "execution_count": 15,
     "metadata": {},
     "output_type": "execute_result"
    }
   ],
   "source": [
    "final_na_df.shape"
   ]
  },
  {
   "cell_type": "code",
   "execution_count": 16,
   "metadata": {},
   "outputs": [
    {
     "name": "stdout",
     "output_type": "stream",
     "text": [
      "x005    0.575970\n",
      "x014    0.474342\n",
      "x018    0.410462\n",
      "x019    0.413284\n",
      "x020    0.415688\n",
      "x022    0.568884\n",
      "x023    0.480639\n",
      "x025    0.487376\n",
      "x027    0.424206\n",
      "x028    0.414760\n",
      "x030    0.425470\n",
      "x046    0.507595\n",
      "x059    0.415029\n",
      "x064    0.411101\n",
      "x065    0.413885\n",
      "x224    0.432531\n",
      "x225    0.488159\n",
      "x226    0.514055\n",
      "x227    0.537190\n",
      "x228    0.512067\n",
      "x229    0.443279\n",
      "x236    0.572875\n",
      "x244    0.503321\n",
      "x245    0.467735\n",
      "x246    0.459512\n",
      "x247    0.446191\n",
      "x249    0.515316\n",
      "x250    0.447270\n",
      "x260    0.434920\n",
      "x261    0.439065\n",
      "x262    0.445821\n",
      "y       1.000000\n",
      "Name: y, dtype: float64\n"
     ]
    }
   ],
   "source": [
    "correlation = final_na_df.corr()\n",
    "#Correlation with output variable\n",
    "cor_target = abs(correlation[\"y\"])\n",
    "#Selecting highly correlated features\n",
    "relevant_features = cor_target[cor_target>0.4]\n",
    "print(relevant_features)"
   ]
  },
  {
   "cell_type": "code",
   "execution_count": 17,
   "metadata": {},
   "outputs": [],
   "source": [
    "df = final_na_df[['x005','x014','x018','x019','x020','x022','x023','x025','x027','x028','x030','x046','x059',\n",
    "                'x064','x065','x224','x225','x226','x227','x228','x229','x236','x244','x245','x246','x247',\n",
    "                'x249','x250','x260','x261','x262','Source','y']]"
   ]
  },
  {
   "cell_type": "code",
   "execution_count": 18,
   "metadata": {},
   "outputs": [
    {
     "data": {
      "text/plain": [
       "(100000, 33)"
      ]
     },
     "execution_count": 18,
     "metadata": {},
     "output_type": "execute_result"
    }
   ],
   "source": [
    "df.shape"
   ]
  },
  {
   "cell_type": "code",
   "execution_count": 19,
   "metadata": {},
   "outputs": [
    {
     "data": {
      "text/plain": [
       "x005      6110\n",
       "x014         0\n",
       "x018         0\n",
       "x019         0\n",
       "x020         0\n",
       "x022         0\n",
       "x023         0\n",
       "x025         0\n",
       "x027         0\n",
       "x028         0\n",
       "x030         0\n",
       "x046         0\n",
       "x059         0\n",
       "x064         0\n",
       "x065         0\n",
       "x224         0\n",
       "x225         0\n",
       "x226         0\n",
       "x227         0\n",
       "x228         0\n",
       "x229         0\n",
       "x236         0\n",
       "x244         0\n",
       "x245         0\n",
       "x246         0\n",
       "x247         0\n",
       "x249         0\n",
       "x250         0\n",
       "x260         0\n",
       "x261         0\n",
       "x262         0\n",
       "Source       0\n",
       "y            0\n",
       "dtype: int64"
      ]
     },
     "execution_count": 19,
     "metadata": {},
     "output_type": "execute_result"
    }
   ],
   "source": [
    "df.isna().sum()"
   ]
  },
  {
   "cell_type": "code",
   "execution_count": 20,
   "metadata": {},
   "outputs": [
    {
     "data": {
      "text/plain": [
       "<matplotlib.axes._subplots.AxesSubplot at 0x2b8877e6668>"
      ]
     },
     "execution_count": 20,
     "metadata": {},
     "output_type": "execute_result"
    },
    {
     "data": {
      "image/png": "[encoded data removed]",
      "text/plain": [
       "<Figure size 432x288 with 1 Axes>"
      ]
     },
     "metadata": {
      "needs_background": "light"
     },
     "output_type": "display_data"
    }
   ],
   "source": [
    "df['x005'].plot(kind = 'box')"
   ]
  },
  {
   "cell_type": "code",
   "execution_count": 21,
   "metadata": {},
   "outputs": [],
   "source": [
    "def fill_na(col):\n",
    "    df[col] = df[col].fillna(df[col].median())"
   ]
  },
  {
   "cell_type": "code",
   "execution_count": 22,
   "metadata": {},
   "outputs": [],
   "source": [
    "fill_na('x005')\n"
   ]
  },
  {
   "cell_type": "code",
   "execution_count": 23,
   "metadata": {},
   "outputs": [
    {
     "data": {
      "text/plain": [
       "x005      0\n",
       "x014      0\n",
       "x018      0\n",
       "x019      0\n",
       "x020      0\n",
       "x022      0\n",
       "x023      0\n",
       "x025      0\n",
       "x027      0\n",
       "x028      0\n",
       "x030      0\n",
       "x046      0\n",
       "x059      0\n",
       "x064      0\n",
       "x065      0\n",
       "x224      0\n",
       "x225      0\n",
       "x226      0\n",
       "x227      0\n",
       "x228      0\n",
       "x229      0\n",
       "x236      0\n",
       "x244      0\n",
       "x245      0\n",
       "x246      0\n",
       "x247      0\n",
       "x249      0\n",
       "x250      0\n",
       "x260      0\n",
       "x261      0\n",
       "x262      0\n",
       "Source    0\n",
       "y         0\n",
       "dtype: int64"
      ]
     },
     "execution_count": 23,
     "metadata": {},
     "output_type": "execute_result"
    }
   ],
   "source": [
    "df.isna().sum()\n"
   ]
  },
  {
   "cell_type": "code",
   "execution_count": 24,
   "metadata": {},
   "outputs": [
    {
     "name": "stdout",
     "output_type": "stream",
     "text": [
      "<class 'pandas.core.frame.DataFrame'>\n",
      "Int64Index: 100000 entries, 0 to 19999\n",
      "Data columns (total 33 columns):\n",
      "x005      100000 non-null float64\n",
      "x014      100000 non-null int64\n",
      "x018      100000 non-null int64\n",
      "x019      100000 non-null int64\n",
      "x020      100000 non-null int64\n",
      "x022      100000 non-null int64\n",
      "x023      100000 non-null int64\n",
      "x025      100000 non-null int64\n",
      "x027      100000 non-null int64\n",
      "x028      100000 non-null int64\n",
      "x030      100000 non-null int64\n",
      "x046      100000 non-null int64\n",
      "x059      100000 non-null int64\n",
      "x064      100000 non-null int64\n",
      "x065      100000 non-null int64\n",
      "x224      100000 non-null int64\n",
      "x225      100000 non-null int64\n",
      "x226      100000 non-null int64\n",
      "x227      100000 non-null int64\n",
      "x228      100000 non-null int64\n",
      "x229      100000 non-null int64\n",
      "x236      100000 non-null int64\n",
      "x244      100000 non-null int64\n",
      "x245      100000 non-null int64\n",
      "x246      100000 non-null int64\n",
      "x247      100000 non-null int64\n",
      "x249      100000 non-null int64\n",
      "x250      100000 non-null int64\n",
      "x260      100000 non-null int64\n",
      "x261      100000 non-null int64\n",
      "x262      100000 non-null int64\n",
      "Source    100000 non-null object\n",
      "y         100000 non-null int64\n",
      "dtypes: float64(1), int64(31), object(1)\n",
      "memory usage: 25.9+ MB\n"
     ]
    }
   ],
   "source": [
    "df.info()"
   ]
  },
  {
   "cell_type": "code",
   "execution_count": 25,
   "metadata": {},
   "outputs": [],
   "source": [
    "train_df = df[df[\"Source\"] == 'Train']\n",
    "test_df = df[df[\"Source\"] == 'Test']"
   ]
  },
  {
   "cell_type": "code",
   "execution_count": 26,
   "metadata": {},
   "outputs": [],
   "source": [
    "train_df.drop(columns = [\"Source\"],inplace = True)\n",
    "test_df.drop(columns = [\"Source\"],inplace = True)"
   ]
  },
  {
   "cell_type": "code",
   "execution_count": 27,
   "metadata": {},
   "outputs": [],
   "source": [
    "train_X = train_df.drop(columns = ['y'])\n",
    "train_Y = train_df['y']\n",
    "test_X = test_df.drop(columns = ['y'])\n",
    "test_Y = test_df['y']"
   ]
  },
  {
   "cell_type": "code",
   "execution_count": 28,
   "metadata": {},
   "outputs": [
    {
     "data": {
      "text/plain": [
       "(80000, 31)"
      ]
     },
     "execution_count": 28,
     "metadata": {},
     "output_type": "execute_result"
    }
   ],
   "source": [
    "train_X.shape"
   ]
  },
  {
   "cell_type": "code",
   "execution_count": 29,
   "metadata": {},
   "outputs": [
    {
     "data": {
      "text/plain": [
       "(20000, 31)"
      ]
     },
     "execution_count": 29,
     "metadata": {},
     "output_type": "execute_result"
    }
   ],
   "source": [
    "test_X.shape"
   ]
  },
  {
   "cell_type": "code",
   "execution_count": 30,
   "metadata": {},
   "outputs": [],
   "source": [
    "from sklearn.preprocessing import StandardScaler\n",
    "scaler = StandardScaler()\n",
    "train_scaled = scaler.fit_transform(train_X)\n",
    "test_scaled = scaler.transform(test_X)"
   ]
  },
  {
   "cell_type": "code",
   "execution_count": 31,
   "metadata": {},
   "outputs": [],
   "source": [
    "from sklearn.linear_model import LinearRegression, Lasso, Ridge , ElasticNet\n",
    "from sklearn.tree import DecisionTreeRegressor\n",
    "from sklearn.neighbors import KNeighborsRegressor\n",
    "from sklearn.ensemble import RandomForestRegressor, AdaBoostRegressor, GradientBoostingRegressor\n",
    "from xgboost.sklearn import XGBRegressor"
   ]
  },
  {
   "cell_type": "code",
   "execution_count": 32,
   "metadata": {},
   "outputs": [],
   "source": [
    "model1 = LinearRegression()\n",
    "model2 = Lasso()\n",
    "model3 = Ridge()\n",
    "model4 = ElasticNet()\n",
    "model5 = DecisionTreeRegressor()\n",
    "model6 = KNeighborsRegressor()\n",
    "model7 = RandomForestRegressor()\n",
    "model8 = AdaBoostRegressor()\n",
    "model9 = GradientBoostingRegressor()\n",
    "model10 = XGBRegressor()"
   ]
  },
  {
   "cell_type": "code",
   "execution_count": 33,
   "metadata": {},
   "outputs": [
    {
     "name": "stdout",
     "output_type": "stream",
     "text": [
      "[22:52:16] WARNING: C:/Jenkins/workspace/xgboost-win64_release_0.90/src/objective/regression_obj.cu:152: reg:linear is now deprecated in favor of reg:squarederror.\n"
     ]
    },
    {
     "data": {
      "text/plain": [
       "XGBRegressor(base_score=0.5, booster='gbtree', colsample_bylevel=1,\n",
       "       colsample_bynode=1, colsample_bytree=1, gamma=0,\n",
       "       importance_type='gain', learning_rate=0.1, max_delta_step=0,\n",
       "       max_depth=3, min_child_weight=1, missing=None, n_estimators=100,\n",
       "       n_jobs=1, nthread=None, objective='reg:linear', random_state=0,\n",
       "       reg_alpha=0, reg_lambda=1, scale_pos_weight=1, seed=None,\n",
       "       silent=None, subsample=1, verbosity=1)"
      ]
     },
     "execution_count": 33,
     "metadata": {},
     "output_type": "execute_result"
    }
   ],
   "source": [
    "model1.fit(train_X,train_Y)\n",
    "model2.fit(train_X,train_Y)\n",
    "model3.fit(train_X,train_Y)\n",
    "model4.fit(train_X,train_Y)\n",
    "model5.fit(train_X,train_Y)\n",
    "model6.fit(train_X,train_Y)\n",
    "model7.fit(train_X,train_Y)\n",
    "model8.fit(train_X,train_Y)\n",
    "model9.fit(train_X,train_Y)\n",
    "model10.fit(train_X,train_Y)"
   ]
  },
  {
   "cell_type": "code",
   "execution_count": 34,
   "metadata": {},
   "outputs": [],
   "source": [
    "y_train_model1_predmodel1= model1.predict(train_X)\n",
    "y_train_model2_predmodel2= model2.predict(train_X)\n",
    "y_train_model3_predmodel3= model3.predict(train_X)\n",
    "y_train_model4_predmodel4= model4.predict(train_X)\n",
    "y_train_model5_predmodel5= model5.predict(train_X)\n",
    "y_train_model6_predmodel6= model6.predict(train_X)\n",
    "y_train_model7_predmodel7= model7.predict(train_X)\n",
    "y_train_model8_predmodel8= model8.predict(train_X)\n",
    "y_train_model9_predmodel9= model9.predict(train_X)\n",
    "y_train_model10_predmodel10= model10.predict(train_X)"
   ]
  },
  {
   "cell_type": "code",
   "execution_count": 35,
   "metadata": {},
   "outputs": [],
   "source": [
    "y_test_model1_predmodel1= model1.predict(test_X)\n",
    "y_test_model2_predmodel2= model2.predict(test_X)\n",
    "y_test_model3_predmodel3= model3.predict(test_X)\n",
    "y_test_model4_predmodel4= model4.predict(test_X)\n",
    "y_test_model5_predmodel5= model5.predict(test_X)\n",
    "y_test_model6_predmodel6= model6.predict(test_X)\n",
    "y_test_model7_predmodel7= model7.predict(test_X)\n",
    "y_test_model8_predmodel8= model8.predict(test_X)\n",
    "y_test_model9_predmodel9= model9.predict(test_X)\n",
    "y_test_model10_predmodel10= model10.predict(test_X)"
   ]
  },
  {
   "cell_type": "code",
   "execution_count": 36,
   "metadata": {},
   "outputs": [],
   "source": [
    "from sklearn.metrics import mean_squared_error\n",
    "def RMSE(y_true, y_pred): \n",
    "\n",
    "    return np.sqrt(mean_squared_error(y_true, y_pred))"
   ]
  },
  {
   "cell_type": "code",
   "execution_count": 37,
   "metadata": {},
   "outputs": [
    {
     "name": "stdout",
     "output_type": "stream",
     "text": [
      "Linear Regression train prediction: 73.62874924647588\n",
      "Lasso train prediction: 74.13202569453648\n",
      "Ridge train prediction: 73.62874950782039\n",
      "Elastic Net Regression train prediction: 76.5652552240765\n",
      "Decision Tree Regression train prediction: 8.798602040489499\n",
      "KNN Regression train prediction: 55.52658615474213\n",
      "Random Forest Regression train prediction: 24.2406311555647\n",
      "Adaboost Regression train prediction: 70.20111565898738\n",
      "GradientBoost Regression train prediction: 53.80320133060173\n",
      "XGB Regression train prediction: 53.84010778593324\n"
     ]
    }
   ],
   "source": [
    "print('Linear Regression train prediction: {}'.format(RMSE(train_Y,y_train_model1_predmodel1)))\n",
    "print('Lasso train prediction: {}'.format(RMSE(train_Y,y_train_model2_predmodel2)))\n",
    "print('Ridge train prediction: {}'.format(RMSE(train_Y,y_train_model3_predmodel3)))\n",
    "print('Elastic Net Regression train prediction: {}'.format(RMSE(train_Y,y_train_model4_predmodel4)))\n",
    "print('Decision Tree Regression train prediction: {}'.format(RMSE(train_Y,y_train_model5_predmodel5)))\n",
    "print('KNN Regression train prediction: {}'.format(RMSE(train_Y,y_train_model6_predmodel6)))\n",
    "print('Random Forest Regression train prediction: {}'.format(RMSE(train_Y,y_train_model7_predmodel7)))\n",
    "print('Adaboost Regression train prediction: {}'.format(RMSE(train_Y,y_train_model8_predmodel8)))\n",
    "print('GradientBoost Regression train prediction: {}'.format(RMSE(train_Y,y_train_model9_predmodel9)))\n",
    "print('XGB Regression train prediction: {}'.format(RMSE(train_Y,y_train_model10_predmodel10)))"
   ]
  },
  {
   "cell_type": "code",
   "execution_count": 38,
   "metadata": {},
   "outputs": [
    {
     "name": "stdout",
     "output_type": "stream",
     "text": [
      "Linear Regression test prediction: 73.39351245151973\n",
      "Lasso test prediction: 73.87422277735807\n",
      "Ridge test prediction: 73.39347184517403\n",
      "Elastic Net Regression test prediction: 76.3840438685576\n",
      "Decision Tree Regression test prediction: 73.18094062557101\n",
      "KNN Regression test prediction: 68.03072000206964\n",
      "Random Forest Regression test prediction: 54.85392152642417\n",
      "Adaboost Regression test prediction: 69.91190364050178\n",
      "GradientBoost Regression test prediction: 53.867432883448\n",
      "XGB Regression test prediction: 53.93132569657885\n"
     ]
    }
   ],
   "source": [
    "print('Linear Regression test prediction: {}'.format(RMSE(test_Y,y_test_model1_predmodel1)))\n",
    "print('Lasso test prediction: {}'.format(RMSE(test_Y,y_test_model2_predmodel2)))\n",
    "print('Ridge test prediction: {}'.format(RMSE(test_Y,y_test_model3_predmodel3)))\n",
    "print('Elastic Net Regression test prediction: {}'.format(RMSE(test_Y,y_test_model4_predmodel4)))\n",
    "print('Decision Tree Regression test prediction: {}'.format(RMSE(test_Y,y_test_model5_predmodel5)))\n",
    "print('KNN Regression test prediction: {}'.format(RMSE(test_Y,y_test_model6_predmodel6)))\n",
    "print('Random Forest Regression test prediction: {}'.format(RMSE(test_Y,y_test_model7_predmodel7)))\n",
    "print('Adaboost Regression test prediction: {}'.format(RMSE(test_Y,y_test_model8_predmodel8)))\n",
    "print('GradientBoost Regression test prediction: {}'.format(RMSE(test_Y,y_test_model9_predmodel9)))\n",
    "print('XGB Regression test prediction: {}'.format(RMSE(test_Y,y_test_model10_predmodel10)))"
   ]
  },
  {
   "cell_type": "code",
   "execution_count": 39,
   "metadata": {},
   "outputs": [],
   "source": [
    "from sklearn.metrics import mean_absolute_error\n",
    "def MAE(y_true, y_pred): \n",
    "\n",
    "    return np.sqrt(mean_absolute_error(y_true, y_pred))"
   ]
  },
  {
   "cell_type": "code",
   "execution_count": 40,
   "metadata": {},
   "outputs": [
    {
     "name": "stdout",
     "output_type": "stream",
     "text": [
      "Linear Regression train prediction: 7.563601786144412\n",
      "Lasso train prediction: 7.607537620599846\n",
      "Ridge train prediction: 7.563612992313606\n",
      "Elastic Net Regression train prediction: 7.77094774702744\n",
      "Decision Tree Regression train prediction: 1.26349210498955\n",
      "KNN Regression train prediction: 6.462988859653095\n",
      "Random Forest Regression train prediction: 4.064705896973796\n",
      "Adaboost Regression train prediction: 7.491397073090311\n",
      "GradientBoost Regression train prediction: 6.331528892807412\n",
      "XGB Regression train prediction: 6.33662350954787\n"
     ]
    }
   ],
   "source": [
    "print('Linear Regression train prediction: {}'.format(MAE(train_Y,y_train_model1_predmodel1)))\n",
    "print('Lasso train prediction: {}'.format(MAE(train_Y,y_train_model2_predmodel2)))\n",
    "print('Ridge train prediction: {}'.format(MAE(train_Y,y_train_model3_predmodel3)))\n",
    "print('Elastic Net Regression train prediction: {}'.format(MAE(train_Y,y_train_model4_predmodel4)))\n",
    "print('Decision Tree Regression train prediction: {}'.format(MAE(train_Y,y_train_model5_predmodel5)))\n",
    "print('KNN Regression train prediction: {}'.format(MAE(train_Y,y_train_model6_predmodel6)))\n",
    "print('Random Forest Regression train prediction: {}'.format(MAE(train_Y,y_train_model7_predmodel7)))\n",
    "print('Adaboost Regression train prediction: {}'.format(MAE(train_Y,y_train_model8_predmodel8)))\n",
    "print('GradientBoost Regression train prediction: {}'.format(MAE(train_Y,y_train_model9_predmodel9)))\n",
    "print('XGB Regression train prediction: {}'.format(MAE(train_Y,y_train_model10_predmodel10)))"
   ]
  },
  {
   "cell_type": "code",
   "execution_count": 41,
   "metadata": {},
   "outputs": [
    {
     "name": "stdout",
     "output_type": "stream",
     "text": [
      "Linear Regression test prediction: 7.563958570039225\n",
      "Lasso test prediction: 7.603737234339417\n",
      "Ridge test prediction: 7.563965747503053\n",
      "Elastic Net Regression test prediction: 7.767952094095912\n",
      "Decision Tree Regression test prediction: 7.212238640787456\n",
      "KNN Regression test prediction: 7.162834634416741\n",
      "Random Forest Regression test prediction: 6.3085080884824105\n",
      "Adaboost Regression test prediction: 7.471502517109121\n",
      "GradientBoost Regression test prediction: 6.330713037305921\n",
      "XGB Regression test prediction: 6.3389587127260505\n"
     ]
    }
   ],
   "source": [
    "print('Linear Regression test prediction: {}'.format(MAE(test_Y,y_test_model1_predmodel1)))\n",
    "print('Lasso test prediction: {}'.format(MAE(test_Y,y_test_model2_predmodel2)))\n",
    "print('Ridge test prediction: {}'.format(MAE(test_Y,y_test_model3_predmodel3)))\n",
    "print('Elastic Net Regression test prediction: {}'.format(MAE(test_Y,y_test_model4_predmodel4)))\n",
    "print('Decision Tree Regression test prediction: {}'.format(MAE(test_Y,y_test_model5_predmodel5)))\n",
    "print('KNN Regression test prediction: {}'.format(MAE(test_Y,y_test_model6_predmodel6)))\n",
    "print('Random Forest Regression test prediction: {}'.format(MAE(test_Y,y_test_model7_predmodel7)))\n",
    "print('Adaboost Regression test prediction: {}'.format(MAE(test_Y,y_test_model8_predmodel8)))\n",
    "print('GradientBoost Regression test prediction: {}'.format(MAE(test_Y,y_test_model9_predmodel9)))\n",
    "print('XGB Regression test prediction: {}'.format(MAE(test_Y,y_test_model10_predmodel10)))"
   ]
  },
  {
   "cell_type": "code",
   "execution_count": null,
   "metadata": {},
   "outputs": [],
   "source": []
  }
 ],
 "metadata": {
  "kernelspec": {
   "display_name": "Python 3",
   "language": "python",
   "name": "python3"
  },
  "language_info": {
   "codemirror_mode": {
    "name": "ipython",
    "version": 3
   },
   "file_extension": ".py",
   "mimetype": "text/x-python",
   "name": "python",
   "nbconvert_exporter": "python",
   "pygments_lexer": "ipython3",
   "version": "3.7.3"
  }
 },
 "nbformat": 4,
 "nbformat_minor": 2
}
